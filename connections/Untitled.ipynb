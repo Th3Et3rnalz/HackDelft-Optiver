{
 "cells": [
  {
   "cell_type": "code",
   "execution_count": 31,
   "metadata": {},
   "outputs": [],
   "source": [
    "import urllib.request\n",
    "\n",
    "url = 'http://188.166.115.7/data/pnls.csv'\n",
    "response = urllib.request.urlopen(url)\n",
    "data = response.read()      # a `bytes` object\n",
    "text = data.decode('utf-8')"
   ]
  },
  {
   "cell_type": "code",
   "execution_count": 32,
   "metadata": {},
   "outputs": [
    {
     "data": {
      "text/plain": [
       "'#USERNAME;TOTAL_PNL;TOTAL_LOCKED_PNL;TRADED_VOLUME;ESX_POSITION;SP_POSITION\\ncookie3;2.95769e+06;4.36637e+06;4684178;-144544;-59434\\nMr_Simple;996424;962816;192296;7452;704\\nWolfSesameStreet;727354;806000;311651;11673;-870\\nMr_Bean;718594;828843;685321;-1352;52395\\nteam17test2;364988;233710;61287;-20139;0\\ncookie2;50185.7;-19282;34322;869;1115\\nProva;6493.96;11154.2;1250;0;-50\\nGROUP21;2978.67;4742.24;474;-126;0\\nGroup25Testing;1741.71;0;10;0;10\\noptiver-python-template;1033.5;-0;30;20;10\\nMr_Complex;147.75;147.75;40;0;0\\nMr_Peanutbutter;-26.7976;0;20;-20;0\\nGROUP25TESTING;-272.5;-272.5;100;0;0\\nYE;-1711.83;0;40;0;-40\\nGroup30_test;-3302.24;-3495.53;1003;0;3\\ncookie3;cookie4;-10455.1;1234.32;17097;-4175;-1118\\nteam17test;-20875.3;-8217.65;20903;2035;0\\nmemyselfandi;-561856;9706.6;11414;0;-9414\\ncookie;-1.30311e+06;-153.665;41174;-24498;-16622\\n\\n'"
      ]
     },
     "execution_count": 32,
     "metadata": {},
     "output_type": "execute_result"
    }
   ],
   "source": [
    "text"
   ]
  },
  {
   "cell_type": "code",
   "execution_count": 34,
   "metadata": {},
   "outputs": [
    {
     "data": {
      "text/plain": [
       "['#USERNAME;TOTAL_PNL;TOTAL_LOCKED_PNL;TRADED_VOLUME;ESX_POSITION;SP_POSITION',\n",
       " 'cookie3;2.95769e+06;4.36637e+06;4684178;-144544;-59434',\n",
       " 'Mr_Simple;996424;962816;192296;7452;704',\n",
       " 'WolfSesameStreet;727354;806000;311651;11673;-870',\n",
       " 'Mr_Bean;718594;828843;685321;-1352;52395',\n",
       " 'team17test2;364988;233710;61287;-20139;0',\n",
       " 'cookie2;50185.7;-19282;34322;869;1115',\n",
       " 'Prova;6493.96;11154.2;1250;0;-50',\n",
       " 'GROUP21;2978.67;4742.24;474;-126;0',\n",
       " 'Group25Testing;1741.71;0;10;0;10',\n",
       " 'optiver-python-template;1033.5;-0;30;20;10',\n",
       " 'Mr_Complex;147.75;147.75;40;0;0',\n",
       " 'Mr_Peanutbutter;-26.7976;0;20;-20;0',\n",
       " 'GROUP25TESTING;-272.5;-272.5;100;0;0',\n",
       " 'YE;-1711.83;0;40;0;-40',\n",
       " 'Group30_test;-3302.24;-3495.53;1003;0;3',\n",
       " 'cookie3;cookie4;-10455.1;1234.32;17097;-4175;-1118',\n",
       " 'team17test;-20875.3;-8217.65;20903;2035;0',\n",
       " 'memyselfandi;-561856;9706.6;11414;0;-9414',\n",
       " 'cookie;-1.30311e+06;-153.665;41174;-24498;-16622']"
      ]
     },
     "execution_count": 34,
     "metadata": {},
     "output_type": "execute_result"
    }
   ],
   "source": [
    "rows = text.split(\"\\n\")\n",
    "rows.pop()\n",
    "rows.pop()\n",
    "rows"
   ]
  },
  {
   "cell_type": "code",
   "execution_count": null,
   "metadata": {},
   "outputs": [],
   "source": []
  },
  {
   "cell_type": "code",
   "execution_count": null,
   "metadata": {},
   "outputs": [],
   "source": []
  },
  {
   "cell_type": "code",
   "execution_count": 38,
   "metadata": {},
   "outputs": [
    {
     "name": "stdout",
     "output_type": "stream",
     "text": [
      "#USERNAME;TOTAL_PNL;TOTAL_LOCKED_PNL;TRADED_VOLUME;ESX_POSITION;SP_POSITION\n",
      "cookie3;2.95769e+06;4.36637e+06;4684178;-144544;-59434\n",
      "Mr_Simple;996424;962816;192296;7452;704\n",
      "WolfSesameStreet;727354;806000;311651;11673;-870\n",
      "Mr_Bean;718594;828843;685321;-1352;52395\n",
      "team17test2;364988;233710;61287;-20139;0\n",
      "cookie2;50185.7;-19282;34322;869;1115\n",
      "Prova;6493.96;11154.2;1250;0;-50\n",
      "GROUP21;2978.67;4742.24;474;-126;0\n",
      "Group25Testing;1741.71;0;10;0;10\n",
      "optiver-python-template;1033.5;-0;30;20;10\n",
      "Mr_Complex;147.75;147.75;40;0;0\n",
      "Mr_Peanutbutter;-26.7976;0;20;-20;0\n",
      "GROUP25TESTING;-272.5;-272.5;100;0;0\n",
      "YE;-1711.83;0;40;0;-40\n",
      "Group30_test;-3302.24;-3495.53;1003;0;3\n",
      "cookie3;cookie4;-10455.1;1234.32;17097;-4175;-1118\n",
      "team17test;-20875.3;-8217.65;20903;2035;0\n",
      "memyselfandi;-561856;9706.6;11414;0;-9414\n",
      "cookie;-1.30311e+06;-153.665;41174;-24498;-16622\n"
     ]
    }
   ],
   "source": [
    "data = []\n",
    "# for m in \n",
    "for i in rows:\n",
    "    print(i)\n",
    "    data.append(i.split(\";\"))"
   ]
  },
  {
   "cell_type": "code",
   "execution_count": 25,
   "metadata": {},
   "outputs": [
    {
     "data": {
      "text/plain": [
       "[['#USERNAME',\n",
       "  'TOTAL_PNL',\n",
       "  'TOTAL_LOCKED_PNL',\n",
       "  'TRADED_VOLUME',\n",
       "  'ESX_POSITION',\n",
       "  'SP_POSITION'],\n",
       " ['cookie3', '4.21387e+06', '4.47995e+06', '4573094', '-124506', '-66234'],\n",
       " ['Mr_Simple', '989799', '962816', '192296', '7452', '704'],\n",
       " ['WolfSesameStreet', '760329', '806000', '311651', '11673', '-870'],\n",
       " ['team17test2', '312498', '163312', '53445', '-27981', '0'],\n",
       " ['cookie2', '26714.1', '-19282', '34322', '869', '1115'],\n",
       " ['Prova', '7592.76', '11154.2', '1250', '0', '-50'],\n",
       " ['GROUP21', '2829.12', '4742.24', '474', '-126', '0'],\n",
       " ['Group25Testing', '1521.95', '0', '10', '0', '10'],\n",
       " ['optiver-python-template', '837.485', '-0', '30', '20', '10'],\n",
       " ['Mr_Complex', '147.75', '147.75', '40', '0', '0'],\n",
       " ['Mr_Peanutbutter', '29.7318', '0', '10', '-10', '0'],\n",
       " ['GROUP25TESTING', '-272.5', '-272.5', '100', '0', '0'],\n",
       " ['YE', '-832.794', '0', '40', '0', '-40'],\n",
       " ['Group30_test', '-3368.17', '-3495.53', '1003', '0', '3'],\n",
       " ['team17test', '-18459.9', '-8217.65', '20903', '2035', '0'],\n",
       " ['Mr_Bean', '-184215', '1.45078e+06', '533843', '120040', '77537'],\n",
       " ['memyselfandi', '-354975', '9706.6', '11414', '0', '-9414'],\n",
       " ['cookie', '-966904', '-153.665', '41174', '-24498', '-16622']]"
      ]
     },
     "execution_count": 25,
     "metadata": {},
     "output_type": "execute_result"
    }
   ],
   "source": [
    "data"
   ]
  },
  {
   "cell_type": "code",
   "execution_count": 41,
   "metadata": {},
   "outputs": [
    {
     "name": "stdout",
     "output_type": "stream",
     "text": [
      "['cookie3', '2.95769e+06', '4.36637e+06', '4684178', '-144544', '-59434']\n"
     ]
    }
   ],
   "source": [
    "user = \"cookie3\"\n",
    "specific_data = []\n",
    "try:\n",
    "    for i in data:\n",
    "        ct = i.count(user)\n",
    "        if ct != 0:\n",
    "            print(i)\n",
    "            specific_data = {'username': i[0], 'Total PnL': i[1], 'Total locked PnL': i[2], 'Traded volume': i[3],\n",
    "                            'ESX position': i[4], 'SP position': i[5]}\n",
    "            break\n",
    "except:\n",
    "    pass"
   ]
  },
  {
   "cell_type": "code",
   "execution_count": 42,
   "metadata": {},
   "outputs": [
    {
     "data": {
      "text/plain": [
       "{'username': 'cookie3',\n",
       " 'Total PnL': '2.95769e+06',\n",
       " 'Total locked PnL': '4.36637e+06',\n",
       " 'Traded volume': '4684178',\n",
       " 'ESX position': '-144544',\n",
       " 'SP position': '-59434'}"
      ]
     },
     "execution_count": 42,
     "metadata": {},
     "output_type": "execute_result"
    }
   ],
   "source": [
    "specific_data"
   ]
  },
  {
   "cell_type": "code",
   "execution_count": null,
   "metadata": {},
   "outputs": [],
   "source": []
  },
  {
   "cell_type": "code",
   "execution_count": null,
   "metadata": {},
   "outputs": [],
   "source": []
  },
  {
   "cell_type": "code",
   "execution_count": null,
   "metadata": {},
   "outputs": [],
   "source": []
  },
  {
   "cell_type": "code",
   "execution_count": null,
   "metadata": {},
   "outputs": [],
   "source": []
  },
  {
   "cell_type": "code",
   "execution_count": null,
   "metadata": {},
   "outputs": [],
   "source": []
  }
 ],
 "metadata": {
  "kernelspec": {
   "display_name": "Python 3",
   "language": "python",
   "name": "python3"
  },
  "language_info": {
   "codemirror_mode": {
    "name": "ipython",
    "version": 3
   },
   "file_extension": ".py",
   "mimetype": "text/x-python",
   "name": "python",
   "nbconvert_exporter": "python",
   "pygments_lexer": "ipython3",
   "version": "3.6.7"
  }
 },
 "nbformat": 4,
 "nbformat_minor": 2
}
